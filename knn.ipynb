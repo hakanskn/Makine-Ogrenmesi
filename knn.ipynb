{
  "nbformat": 4,
  "nbformat_minor": 0,
  "metadata": {
    "colab": {
      "provenance": [],
      "authorship_tag": "ABX9TyPHdsece568j9bDlcA5CNe5",
      "include_colab_link": true
    },
    "kernelspec": {
      "name": "python3",
      "display_name": "Python 3"
    },
    "language_info": {
      "name": "python"
    }
  },
  "cells": [
    {
      "cell_type": "markdown",
      "metadata": {
        "id": "view-in-github",
        "colab_type": "text"
      },
      "source": [
        "<a href=\"https://colab.research.google.com/github/hakanskn/Makine-Ogrenmesi/blob/main/knn.ipynb\" target=\"_parent\"><img src=\"https://colab.research.google.com/assets/colab-badge.svg\" alt=\"Open In Colab\"/></a>"
      ]
    },
    {
      "cell_type": "markdown",
      "source": [
        "# Tanımlar ve Teorik Açıklamalar"
      ],
      "metadata": {
        "id": "jLouxTXJbrNA"
      }
    },
    {
      "cell_type": "markdown",
      "source": [
        "https://miracozturk.com/python-ile-siniflandirma-analizleri-knn-k-nearest-neighbours-k-en-yakin-komsu-algoritmasi/#:~:text=En%20Yak%C4%B1n%20Kom%C5%9Fu%20Algoritmas%C4%B1%20%E2%80%93%20EYKA,%C3%B6%C4%9Frenme%20y%C3%B6ntemi%20olarak%20ifade%20edilmektedir.\n",
        "\n",
        "https://arslanev.medium.com/makine-%C3%B6%C4%9Frenmesi-knn-k-nearest-neighbors-algoritmas%C4%B1-bdfb688d7c5f\n",
        "\n",
        "https://www.veribilimiokulu.com/k-en-yakin-komsu-k-nearest-neighbor-siniflandirma-python-ornek-uygulama/\n",
        "\n",
        "\n",
        "https://towardsdatascience.com/machine-learning-basics-with-the-k-nearest-neighbors-algorithm-6a6e71d01761?gi=16988425365b"
      ],
      "metadata": {
        "id": "KYvA5M6OOx-2"
      }
    },
    {
      "cell_type": "markdown",
      "source": [
        "En basit anlaşılabilecek makine öğrenmesi algoritmalarından biridir.\n",
        "\n",
        "Basit bir tanım yapacak olursak;\n",
        "\n",
        "\"**Sınıfı bilinmeyen verilerin, eğitim setindeki diğer veriler ile karşılaştırılıp bir uzaklık ölçümü gerçekleştirilmesi sonucu hesaplanan uzaklığa göre henüz bir sınıfa atanamamış verinin, en ideal (optimal) sınıfa atanarak sınıflandırılması olarak ifade edilmektedir.**\"\n",
        "\n",
        "KNN  algoritması; 1950’li yılların başında Evelyn Fix ve Joseph L. Hodges Jr. tarafından geliştirilmiş, 1965 yılında N.J. Nilsson’ın minimum uzaklık sınıflayıcı çalışmaları ile gelişimi hız kazanmış ve 1967 yılında ilk olarak genişletilip istatiksel analizlere (Regresyon – Regression) yönelik kullanılması/önerilmesi Thomas M. Cover ve Peter. E. Hart tarafından gerçekleşmiştir.\n",
        "\n",
        "Literatürde uzaklık ölçümü için bir çok yaklaşım vardır. Bunlardan bazıları aşağıdadır:\n",
        "\n",
        "- Euclidean (Öklidyen) Uzaklık hesaplaması,\n",
        "- Manhattan Uzaklık Hesaplaması,\n",
        "- Chebyshev Uzaklık Hesaplaması,\n",
        "- Hamming Uzaklık Hesaplaması,\n",
        "- Minkowski Uzaklık Hesaplaması,\n",
        "- Mahalanobis Uzaklık Hesaplaması,\n",
        "- Haversiene Uzaklık Hesaplaması,\n",
        "- Levenshtein Uzaklık Hesaplaması,\n",
        "- Sørensen-Dice Uzaklık Hesaplaması,\n",
        "- Jacckard Uzaklık Hesaplaması.\n",
        "\n",
        "En çok bilinen ve kullanılan uzaklık ölçümü Öklid ölçümüdür.\n",
        "\n",
        "Aşağıda formülü yer almaktadır.\n",
        "\n",
        "![image.png](data:image/png;base64,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)\n",
        "\n",
        "Formüldeki p ve q'lar karşılaştırılan iki örneğin aynı özniteliğini işaret etmektedir.\n",
        "\n"
      ],
      "metadata": {
        "id": "AiDJ9W5sajD4"
      }
    },
    {
      "cell_type": "markdown",
      "source": [
        "Artıları\n",
        "\n",
        "- Anlaması ve yorumlaması çok basit bir algoritmadır. \n",
        "- Doğrusal olmayan veriler için çok kullanışlıdır çünkü bu algoritmada veriler hakkında herhangi bir varsayım yoktur. \n",
        "- Hem sınıflandırma hem de regresyon için kullanabileceğimiz için çok yönlü bir algoritmadır. \n",
        "- Nispeten yüksek doğruluğa sahiptir ancak KNN'den çok daha iyi denetimli öğrenme modelleri vardır.\n",
        "\n",
        "Eksileri\n",
        "\n",
        "- Tüm eğitim verilerini sakladığı için hesaplama açısından biraz pahalı bir algoritmadır. \n",
        "- Diğer denetimli öğrenme algoritmalarına kıyasla yüksek bellek depolaması gerekir. \n",
        "- Büyük N durumunda tahmin yavaştır.\n",
        "- Gereksiz özelliklerin yanı sıra veri ölçeğine karşı da çok hassastır."
      ],
      "metadata": {
        "id": "oDLLxPc6ekcQ"
      }
    },
    {
      "cell_type": "markdown",
      "source": [
        "# Uygulama"
      ],
      "metadata": {
        "id": "OqAhF9H_ce7Q"
      }
    },
    {
      "cell_type": "code",
      "execution_count": null,
      "metadata": {
        "id": "AfW_WBfSOu96"
      },
      "outputs": [],
      "source": [
        "import numpy as np\n",
        "import matplotlib.pyplot as plt\n",
        "import pandas as pd"
      ]
    },
    {
      "cell_type": "code",
      "source": [
        "path = \"https://archive.ics.uci.edu/ml/machine-learning-databases/iris/iris.data\"\n",
        "headernames = ['sepal-length', 'sepal-width', 'petal-length', 'petal-width', 'Class']\n",
        "dataset = pd.read_csv(path, names=headernames)\n",
        "dataset.head()"
      ],
      "metadata": {
        "colab": {
          "base_uri": "https://localhost:8080/",
          "height": 206
        },
        "id": "fG_uCp1HeB4a",
        "outputId": "bb568078-70c8-4f39-b353-c6770c391a72"
      },
      "execution_count": null,
      "outputs": [
        {
          "output_type": "execute_result",
          "data": {
            "text/plain": [
              "   sepal-length  sepal-width  petal-length  petal-width        Class\n",
              "0           5.1          3.5           1.4          0.2  Iris-setosa\n",
              "1           4.9          3.0           1.4          0.2  Iris-setosa\n",
              "2           4.7          3.2           1.3          0.2  Iris-setosa\n",
              "3           4.6          3.1           1.5          0.2  Iris-setosa\n",
              "4           5.0          3.6           1.4          0.2  Iris-setosa"
            ],
            "text/html": [
              "\n",
              "  <div id=\"df-161ec2b7-bd14-4536-8f55-d0b76b594a06\">\n",
              "    <div class=\"colab-df-container\">\n",
              "      <div>\n",
              "<style scoped>\n",
              "    .dataframe tbody tr th:only-of-type {\n",
              "        vertical-align: middle;\n",
              "    }\n",
              "\n",
              "    .dataframe tbody tr th {\n",
              "        vertical-align: top;\n",
              "    }\n",
              "\n",
              "    .dataframe thead th {\n",
              "        text-align: right;\n",
              "    }\n",
              "</style>\n",
              "<table border=\"1\" class=\"dataframe\">\n",
              "  <thead>\n",
              "    <tr style=\"text-align: right;\">\n",
              "      <th></th>\n",
              "      <th>sepal-length</th>\n",
              "      <th>sepal-width</th>\n",
              "      <th>petal-length</th>\n",
              "      <th>petal-width</th>\n",
              "      <th>Class</th>\n",
              "    </tr>\n",
              "  </thead>\n",
              "  <tbody>\n",
              "    <tr>\n",
              "      <th>0</th>\n",
              "      <td>5.1</td>\n",
              "      <td>3.5</td>\n",
              "      <td>1.4</td>\n",
              "      <td>0.2</td>\n",
              "      <td>Iris-setosa</td>\n",
              "    </tr>\n",
              "    <tr>\n",
              "      <th>1</th>\n",
              "      <td>4.9</td>\n",
              "      <td>3.0</td>\n",
              "      <td>1.4</td>\n",
              "      <td>0.2</td>\n",
              "      <td>Iris-setosa</td>\n",
              "    </tr>\n",
              "    <tr>\n",
              "      <th>2</th>\n",
              "      <td>4.7</td>\n",
              "      <td>3.2</td>\n",
              "      <td>1.3</td>\n",
              "      <td>0.2</td>\n",
              "      <td>Iris-setosa</td>\n",
              "    </tr>\n",
              "    <tr>\n",
              "      <th>3</th>\n",
              "      <td>4.6</td>\n",
              "      <td>3.1</td>\n",
              "      <td>1.5</td>\n",
              "      <td>0.2</td>\n",
              "      <td>Iris-setosa</td>\n",
              "    </tr>\n",
              "    <tr>\n",
              "      <th>4</th>\n",
              "      <td>5.0</td>\n",
              "      <td>3.6</td>\n",
              "      <td>1.4</td>\n",
              "      <td>0.2</td>\n",
              "      <td>Iris-setosa</td>\n",
              "    </tr>\n",
              "  </tbody>\n",
              "</table>\n",
              "</div>\n",
              "      <button class=\"colab-df-convert\" onclick=\"convertToInteractive('df-161ec2b7-bd14-4536-8f55-d0b76b594a06')\"\n",
              "              title=\"Convert this dataframe to an interactive table.\"\n",
              "              style=\"display:none;\">\n",
              "        \n",
              "  <svg xmlns=\"http://www.w3.org/2000/svg\" height=\"24px\"viewBox=\"0 0 24 24\"\n",
              "       width=\"24px\">\n",
              "    <path d=\"M0 0h24v24H0V0z\" fill=\"none\"/>\n",
              "    <path d=\"M18.56 5.44l.94 2.06.94-2.06 2.06-.94-2.06-.94-.94-2.06-.94 2.06-2.06.94zm-11 1L8.5 8.5l.94-2.06 2.06-.94-2.06-.94L8.5 2.5l-.94 2.06-2.06.94zm10 10l.94 2.06.94-2.06 2.06-.94-2.06-.94-.94-2.06-.94 2.06-2.06.94z\"/><path d=\"M17.41 7.96l-1.37-1.37c-.4-.4-.92-.59-1.43-.59-.52 0-1.04.2-1.43.59L10.3 9.45l-7.72 7.72c-.78.78-.78 2.05 0 2.83L4 21.41c.39.39.9.59 1.41.59.51 0 1.02-.2 1.41-.59l7.78-7.78 2.81-2.81c.8-.78.8-2.07 0-2.86zM5.41 20L4 18.59l7.72-7.72 1.47 1.35L5.41 20z\"/>\n",
              "  </svg>\n",
              "      </button>\n",
              "      \n",
              "  <style>\n",
              "    .colab-df-container {\n",
              "      display:flex;\n",
              "      flex-wrap:wrap;\n",
              "      gap: 12px;\n",
              "    }\n",
              "\n",
              "    .colab-df-convert {\n",
              "      background-color: #E8F0FE;\n",
              "      border: none;\n",
              "      border-radius: 50%;\n",
              "      cursor: pointer;\n",
              "      display: none;\n",
              "      fill: #1967D2;\n",
              "      height: 32px;\n",
              "      padding: 0 0 0 0;\n",
              "      width: 32px;\n",
              "    }\n",
              "\n",
              "    .colab-df-convert:hover {\n",
              "      background-color: #E2EBFA;\n",
              "      box-shadow: 0px 1px 2px rgba(60, 64, 67, 0.3), 0px 1px 3px 1px rgba(60, 64, 67, 0.15);\n",
              "      fill: #174EA6;\n",
              "    }\n",
              "\n",
              "    [theme=dark] .colab-df-convert {\n",
              "      background-color: #3B4455;\n",
              "      fill: #D2E3FC;\n",
              "    }\n",
              "\n",
              "    [theme=dark] .colab-df-convert:hover {\n",
              "      background-color: #434B5C;\n",
              "      box-shadow: 0px 1px 3px 1px rgba(0, 0, 0, 0.15);\n",
              "      filter: drop-shadow(0px 1px 2px rgba(0, 0, 0, 0.3));\n",
              "      fill: #FFFFFF;\n",
              "    }\n",
              "  </style>\n",
              "\n",
              "      <script>\n",
              "        const buttonEl =\n",
              "          document.querySelector('#df-161ec2b7-bd14-4536-8f55-d0b76b594a06 button.colab-df-convert');\n",
              "        buttonEl.style.display =\n",
              "          google.colab.kernel.accessAllowed ? 'block' : 'none';\n",
              "\n",
              "        async function convertToInteractive(key) {\n",
              "          const element = document.querySelector('#df-161ec2b7-bd14-4536-8f55-d0b76b594a06');\n",
              "          const dataTable =\n",
              "            await google.colab.kernel.invokeFunction('convertToInteractive',\n",
              "                                                     [key], {});\n",
              "          if (!dataTable) return;\n",
              "\n",
              "          const docLinkHtml = 'Like what you see? Visit the ' +\n",
              "            '<a target=\"_blank\" href=https://colab.research.google.com/notebooks/data_table.ipynb>data table notebook</a>'\n",
              "            + ' to learn more about interactive tables.';\n",
              "          element.innerHTML = '';\n",
              "          dataTable['output_type'] = 'display_data';\n",
              "          await google.colab.output.renderOutput(dataTable, element);\n",
              "          const docLink = document.createElement('div');\n",
              "          docLink.innerHTML = docLinkHtml;\n",
              "          element.appendChild(docLink);\n",
              "        }\n",
              "      </script>\n",
              "    </div>\n",
              "  </div>\n",
              "  "
            ]
          },
          "metadata": {},
          "execution_count": 3
        }
      ]
    },
    {
      "cell_type": "code",
      "source": [
        "X = dataset.iloc[:, :-1].values\n",
        "y = dataset.iloc[:, 4].values"
      ],
      "metadata": {
        "id": "duooXdVseJHh"
      },
      "execution_count": null,
      "outputs": []
    },
    {
      "cell_type": "code",
      "source": [
        "from sklearn.model_selection import train_test_split\n",
        "X_train, X_test, y_train, y_test = train_test_split(X, y, test_size=0.20)"
      ],
      "metadata": {
        "id": "7nB7gKWSeLwq"
      },
      "execution_count": null,
      "outputs": []
    },
    {
      "cell_type": "code",
      "source": [
        "from sklearn.preprocessing import StandardScaler\n",
        "scaler = StandardScaler()\n",
        "scaler.fit(X_train)\n",
        "X_train = scaler.transform(X_train)\n",
        "X_test = scaler.transform(X_test)"
      ],
      "metadata": {
        "id": "uJB8J_VbePoo"
      },
      "execution_count": null,
      "outputs": []
    },
    {
      "cell_type": "code",
      "source": [
        "from sklearn.neighbors import KNeighborsClassifier\n",
        "classifier = KNeighborsClassifier(n_neighbors=8)\n",
        "classifier.fit(X_train, y_train)"
      ],
      "metadata": {
        "colab": {
          "base_uri": "https://localhost:8080/",
          "height": 74
        },
        "id": "uc9PUQZAeUXp",
        "outputId": "9d397120-1844-4f4b-db84-35e877529868"
      },
      "execution_count": null,
      "outputs": [
        {
          "output_type": "execute_result",
          "data": {
            "text/plain": [
              "KNeighborsClassifier(n_neighbors=8)"
            ],
            "text/html": [
              "<style>#sk-container-id-1 {color: black;background-color: white;}#sk-container-id-1 pre{padding: 0;}#sk-container-id-1 div.sk-toggleable {background-color: white;}#sk-container-id-1 label.sk-toggleable__label {cursor: pointer;display: block;width: 100%;margin-bottom: 0;padding: 0.3em;box-sizing: border-box;text-align: center;}#sk-container-id-1 label.sk-toggleable__label-arrow:before {content: \"▸\";float: left;margin-right: 0.25em;color: #696969;}#sk-container-id-1 label.sk-toggleable__label-arrow:hover:before {color: black;}#sk-container-id-1 div.sk-estimator:hover label.sk-toggleable__label-arrow:before {color: black;}#sk-container-id-1 div.sk-toggleable__content {max-height: 0;max-width: 0;overflow: hidden;text-align: left;background-color: #f0f8ff;}#sk-container-id-1 div.sk-toggleable__content pre {margin: 0.2em;color: black;border-radius: 0.25em;background-color: #f0f8ff;}#sk-container-id-1 input.sk-toggleable__control:checked~div.sk-toggleable__content {max-height: 200px;max-width: 100%;overflow: auto;}#sk-container-id-1 input.sk-toggleable__control:checked~label.sk-toggleable__label-arrow:before {content: \"▾\";}#sk-container-id-1 div.sk-estimator input.sk-toggleable__control:checked~label.sk-toggleable__label {background-color: #d4ebff;}#sk-container-id-1 div.sk-label input.sk-toggleable__control:checked~label.sk-toggleable__label {background-color: #d4ebff;}#sk-container-id-1 input.sk-hidden--visually {border: 0;clip: rect(1px 1px 1px 1px);clip: rect(1px, 1px, 1px, 1px);height: 1px;margin: -1px;overflow: hidden;padding: 0;position: absolute;width: 1px;}#sk-container-id-1 div.sk-estimator {font-family: monospace;background-color: #f0f8ff;border: 1px dotted black;border-radius: 0.25em;box-sizing: border-box;margin-bottom: 0.5em;}#sk-container-id-1 div.sk-estimator:hover {background-color: #d4ebff;}#sk-container-id-1 div.sk-parallel-item::after {content: \"\";width: 100%;border-bottom: 1px solid gray;flex-grow: 1;}#sk-container-id-1 div.sk-label:hover label.sk-toggleable__label {background-color: #d4ebff;}#sk-container-id-1 div.sk-serial::before {content: \"\";position: absolute;border-left: 1px solid gray;box-sizing: border-box;top: 0;bottom: 0;left: 50%;z-index: 0;}#sk-container-id-1 div.sk-serial {display: flex;flex-direction: column;align-items: center;background-color: white;padding-right: 0.2em;padding-left: 0.2em;position: relative;}#sk-container-id-1 div.sk-item {position: relative;z-index: 1;}#sk-container-id-1 div.sk-parallel {display: flex;align-items: stretch;justify-content: center;background-color: white;position: relative;}#sk-container-id-1 div.sk-item::before, #sk-container-id-1 div.sk-parallel-item::before {content: \"\";position: absolute;border-left: 1px solid gray;box-sizing: border-box;top: 0;bottom: 0;left: 50%;z-index: -1;}#sk-container-id-1 div.sk-parallel-item {display: flex;flex-direction: column;z-index: 1;position: relative;background-color: white;}#sk-container-id-1 div.sk-parallel-item:first-child::after {align-self: flex-end;width: 50%;}#sk-container-id-1 div.sk-parallel-item:last-child::after {align-self: flex-start;width: 50%;}#sk-container-id-1 div.sk-parallel-item:only-child::after {width: 0;}#sk-container-id-1 div.sk-dashed-wrapped {border: 1px dashed gray;margin: 0 0.4em 0.5em 0.4em;box-sizing: border-box;padding-bottom: 0.4em;background-color: white;}#sk-container-id-1 div.sk-label label {font-family: monospace;font-weight: bold;display: inline-block;line-height: 1.2em;}#sk-container-id-1 div.sk-label-container {text-align: center;}#sk-container-id-1 div.sk-container {/* jupyter's `normalize.less` sets `[hidden] { display: none; }` but bootstrap.min.css set `[hidden] { display: none !important; }` so we also need the `!important` here to be able to override the default hidden behavior on the sphinx rendered scikit-learn.org. See: https://github.com/scikit-learn/scikit-learn/issues/21755 */display: inline-block !important;position: relative;}#sk-container-id-1 div.sk-text-repr-fallback {display: none;}</style><div id=\"sk-container-id-1\" class=\"sk-top-container\"><div class=\"sk-text-repr-fallback\"><pre>KNeighborsClassifier(n_neighbors=8)</pre><b>In a Jupyter environment, please rerun this cell to show the HTML representation or trust the notebook. <br />On GitHub, the HTML representation is unable to render, please try loading this page with nbviewer.org.</b></div><div class=\"sk-container\" hidden><div class=\"sk-item\"><div class=\"sk-estimator sk-toggleable\"><input class=\"sk-toggleable__control sk-hidden--visually\" id=\"sk-estimator-id-1\" type=\"checkbox\" checked><label for=\"sk-estimator-id-1\" class=\"sk-toggleable__label sk-toggleable__label-arrow\">KNeighborsClassifier</label><div class=\"sk-toggleable__content\"><pre>KNeighborsClassifier(n_neighbors=8)</pre></div></div></div></div></div>"
            ]
          },
          "metadata": {},
          "execution_count": 7
        }
      ]
    },
    {
      "cell_type": "code",
      "source": [
        "y_pred = classifier.predict(X_test)"
      ],
      "metadata": {
        "id": "zI1b_wH0eXso"
      },
      "execution_count": null,
      "outputs": []
    },
    {
      "cell_type": "code",
      "source": [
        "from sklearn.metrics import classification_report, confusion_matrix, accuracy_score\n",
        "result = confusion_matrix(y_test, y_pred)\n",
        "print(\"Confusion Matrix:\")\n",
        "print(result)\n",
        "result1 = classification_report(y_test, y_pred)\n",
        "print(\"Classification Report:\",)\n",
        "print (result1)\n",
        "result2 = accuracy_score(y_test,y_pred)\n",
        "print(\"Accuracy:\",result2)"
      ],
      "metadata": {
        "colab": {
          "base_uri": "https://localhost:8080/"
        },
        "id": "KEzr5UnFebXw",
        "outputId": "637902c3-fea9-479e-8931-cc0c5c0384ed"
      },
      "execution_count": null,
      "outputs": [
        {
          "output_type": "stream",
          "name": "stdout",
          "text": [
            "Confusion Matrix:\n",
            "[[ 6  0  0]\n",
            " [ 0 14  0]\n",
            " [ 0  1  9]]\n",
            "Classification Report:\n",
            "                 precision    recall  f1-score   support\n",
            "\n",
            "    Iris-setosa       1.00      1.00      1.00         6\n",
            "Iris-versicolor       0.93      1.00      0.97        14\n",
            " Iris-virginica       1.00      0.90      0.95        10\n",
            "\n",
            "       accuracy                           0.97        30\n",
            "      macro avg       0.98      0.97      0.97        30\n",
            "   weighted avg       0.97      0.97      0.97        30\n",
            "\n",
            "Accuracy: 0.9666666666666667\n"
          ]
        }
      ]
    },
    {
      "cell_type": "markdown",
      "source": [
        "- Avantajları, Dezavantajları\n",
        "- Nerelerde kullanılır?\n",
        "- Örnek veri seti ile uygulama.\n",
        "- Farklı parametreler ile test.\n",
        "- Uygulamaları görsellerle destekleme.\n",
        "- Algoritmanın karmaşıklığı.\n",
        "- Hiperparametre optimizasyonu.\n",
        "\n",
        "\n",
        "- Kaynaklar"
      ],
      "metadata": {
        "id": "AOZGR0r8jn7I"
      }
    }
  ]
}